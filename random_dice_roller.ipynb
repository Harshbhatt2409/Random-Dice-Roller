{
  "nbformat": 4,
  "nbformat_minor": 0,
  "metadata": {
    "colab": {
      "provenance": [],
      "authorship_tag": "ABX9TyNYpA/CzeL76c6jocBEAsFF",
      "include_colab_link": true
    },
    "kernelspec": {
      "name": "python3",
      "display_name": "Python 3"
    },
    "language_info": {
      "name": "python"
    }
  },
  "cells": [
    {
      "cell_type": "markdown",
      "metadata": {
        "id": "view-in-github",
        "colab_type": "text"
      },
      "source": [
        "<a href=\"https://colab.research.google.com/github/Harshbhatt2409/Random-Dice-Roller/blob/main/random_dice_roller.ipynb\" target=\"_parent\"><img src=\"https://colab.research.google.com/assets/colab-badge.svg\" alt=\"Open In Colab\"/></a>"
      ]
    },
    {
      "cell_type": "code",
      "source": [
        "import random"
      ],
      "metadata": {
        "id": "nU9RicQCtqRc"
      },
      "execution_count": null,
      "outputs": []
    },
    {
      "cell_type": "code",
      "execution_count": null,
      "metadata": {
        "colab": {
          "base_uri": "https://localhost:8080/"
        },
        "id": "XR8wbB4fsEt4",
        "outputId": "b9ccba7d-7a77-43f7-c85e-43c743c17269"
      },
      "outputs": [
        {
          "output_type": "stream",
          "name": "stdout",
          "text": [
            "[-----]\n",
            "[ 0   ]\n",
            "[     ]\n",
            "[   0 ]\n",
            "[-----]\n",
            "press y to roll again and n to exit:y\n",
            "\n",
            "\n",
            "[-----]\n",
            "[0   0]\n",
            "[  0  ]\n",
            "[0   0]\n",
            "[-----]\n",
            "press y to roll again and n to exit:y\n",
            "\n",
            "\n",
            "[-----]\n",
            "[0   0]\n",
            "[     ]\n",
            "[0   0]\n",
            "[-----]\n",
            "press y to roll again and n to exit:n\n",
            "\n",
            "\n"
          ]
        }
      ],
      "source": [
        "\n",
        "x = \"y\"\n",
        "while x == \"y\":\n",
        "    no = random.randint(1,6)\n",
        "    if no ==1:\n",
        "        print(\"[-----]\")\n",
        "        print(\"[     ]\")\n",
        "        print(\"[  0  ]\")\n",
        "        print(\"[     ]\")\n",
        "        print(\"[-----]\")\n",
        "    if no == 2:\n",
        "        print(\"[-----]\")\n",
        "        print(\"[ 0   ]\")\n",
        "        print(\"[     ]\")\n",
        "        print(\"[   0 ]\")\n",
        "        print(\"[-----]\")\n",
        "    if no == 3:\n",
        "        print(\"[-----]\")\n",
        "        print(\"[     ]\")\n",
        "        print(\"[0 0 0]\")\n",
        "        print(\"[     ]\")\n",
        "        print(\"[-----]\")\n",
        "    if no == 4:\n",
        "        print(\"[-----]\")\n",
        "        print(\"[0   0]\")\n",
        "        print(\"[     ]\")\n",
        "        print(\"[0   0]\")\n",
        "        print(\"[-----]\")\n",
        "    if no == 5:\n",
        "        print(\"[-----]\")\n",
        "        print(\"[0   0]\")\n",
        "        print(\"[  0  ]\")\n",
        "        print(\"[0   0]\")\n",
        "        print(\"[-----]\")\n",
        "    if no == 6:\n",
        "        print(\"[-----]\")\n",
        "        print(\"[0 0 0]\")\n",
        "        print(\"[     ]\")\n",
        "        print(\"[0 0 0]\")\n",
        "        print(\"[-----]\")\n",
        "\n",
        "    x = input(\"press y to roll again and n to exit:\")\n",
        "    print(\"\\n\")      "
      ]
    }
  ]
}